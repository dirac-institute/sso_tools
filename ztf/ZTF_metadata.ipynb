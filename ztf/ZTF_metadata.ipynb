{
 "cells": [
  {
   "cell_type": "markdown",
   "metadata": {},
   "source": [
    "ZTF Metadata metadata can be downloaded from :\n",
    "    ??\n"
   ]
  },
  {
   "cell_type": "code",
   "execution_count": 1,
   "metadata": {},
   "outputs": [],
   "source": [
    "import numpy as np\n",
    "import matplotlib.pyplot as plt\n",
    "import pandas as pd\n",
    "from astropy.time import Time"
   ]
  },
  {
   "cell_type": "code",
   "execution_count": 2,
   "metadata": {},
   "outputs": [
    {
     "name": "stdout",
     "output_type": "stream",
     "text": [
      "all metadata = 72286 exp\n",
      "non calibration exp = 63678 exp\n"
     ]
    }
   ],
   "source": [
    "# Read ZTF metadata from file. ZTF table file includes multiple header lines throughout the file.\n",
    "colnames = ['UT_START', 'sun', 'exp', 'filter', 'obstype', 'field', 'pid', 'ra', 'dec', 'slew', 'wait', \n",
    "            'fileroot', 'programpi', 'queue_comment']\n",
    "ztf_meta = pd.read_table('ztf_exposures.tbl', delim_whitespace=True, comment='|', names=colnames)\n",
    "print('all metadata = %d exp' % len(ztf_meta))\n",
    "ztf_meta = ztf_meta.query('queue_comment != \"calib\"')\n",
    "print('non calibration exp = %d exp' % len(ztf_meta))"
   ]
  },
  {
   "cell_type": "code",
   "execution_count": 3,
   "metadata": {},
   "outputs": [],
   "source": [
    "# Pull out the times - must convert to str from 'object' format Pandas read.\n",
    "times = np.array(ztf_meta.UT_START.values, 'str')\n",
    "# Convert times to MJD units.\n",
    "t = Time(np.array(ztf_meta.UT_START.values, 'str'), format='isot', scale='utc')\n",
    "ztf_meta['mjd'] = t.mjd"
   ]
  },
  {
   "cell_type": "code",
   "execution_count": 5,
   "metadata": {},
   "outputs": [
    {
     "data": {
      "text/html": [
       "<div>\n",
       "<style scoped>\n",
       "    .dataframe tbody tr th:only-of-type {\n",
       "        vertical-align: middle;\n",
       "    }\n",
       "\n",
       "    .dataframe tbody tr th {\n",
       "        vertical-align: top;\n",
       "    }\n",
       "\n",
       "    .dataframe thead th {\n",
       "        text-align: right;\n",
       "    }\n",
       "</style>\n",
       "<table border=\"1\" class=\"dataframe\">\n",
       "  <thead>\n",
       "    <tr style=\"text-align: right;\">\n",
       "      <th></th>\n",
       "      <th>UT_START</th>\n",
       "      <th>mjd</th>\n",
       "      <th>ra</th>\n",
       "      <th>dec</th>\n",
       "      <th>filter</th>\n",
       "      <th>exp</th>\n",
       "    </tr>\n",
       "  </thead>\n",
       "  <tbody>\n",
       "    <tr>\n",
       "      <th>44</th>\n",
       "      <td>2018-03-01T05:32:29.1</td>\n",
       "      <td>58178.230892</td>\n",
       "      <td>123.8988</td>\n",
       "      <td>18.95</td>\n",
       "      <td>3</td>\n",
       "      <td>30</td>\n",
       "    </tr>\n",
       "    <tr>\n",
       "      <th>45</th>\n",
       "      <td>2018-03-01T05:33:21.2</td>\n",
       "      <td>58178.231495</td>\n",
       "      <td>123.8988</td>\n",
       "      <td>18.95</td>\n",
       "      <td>3</td>\n",
       "      <td>30</td>\n",
       "    </tr>\n",
       "    <tr>\n",
       "      <th>46</th>\n",
       "      <td>2018-03-01T05:34:13.4</td>\n",
       "      <td>58178.232100</td>\n",
       "      <td>123.8988</td>\n",
       "      <td>18.95</td>\n",
       "      <td>3</td>\n",
       "      <td>30</td>\n",
       "    </tr>\n",
       "    <tr>\n",
       "      <th>47</th>\n",
       "      <td>2018-03-01T05:35:05.7</td>\n",
       "      <td>58178.232705</td>\n",
       "      <td>123.8988</td>\n",
       "      <td>18.95</td>\n",
       "      <td>3</td>\n",
       "      <td>30</td>\n",
       "    </tr>\n",
       "    <tr>\n",
       "      <th>48</th>\n",
       "      <td>2018-03-01T05:35:57.8</td>\n",
       "      <td>58178.233308</td>\n",
       "      <td>123.8988</td>\n",
       "      <td>18.95</td>\n",
       "      <td>3</td>\n",
       "      <td>30</td>\n",
       "    </tr>\n",
       "  </tbody>\n",
       "</table>\n",
       "</div>"
      ],
      "text/plain": [
       "                 UT_START           mjd        ra    dec  filter  exp\n",
       "44  2018-03-01T05:32:29.1  58178.230892  123.8988  18.95       3   30\n",
       "45  2018-03-01T05:33:21.2  58178.231495  123.8988  18.95       3   30\n",
       "46  2018-03-01T05:34:13.4  58178.232100  123.8988  18.95       3   30\n",
       "47  2018-03-01T05:35:05.7  58178.232705  123.8988  18.95       3   30\n",
       "48  2018-03-01T05:35:57.8  58178.233308  123.8988  18.95       3   30"
      ]
     },
     "execution_count": 5,
     "metadata": {},
     "output_type": "execute_result"
    }
   ],
   "source": [
    "cols = ['UT_START', 'mjd', 'ra', 'dec', 'filter', 'exp']\n",
    "ztf_meta[cols][0:5]"
   ]
  },
  {
   "cell_type": "code",
   "execution_count": null,
   "metadata": {},
   "outputs": [],
   "source": []
  }
 ],
 "metadata": {
  "kernelspec": {
   "display_name": "Python 3",
   "language": "python",
   "name": "python3"
  },
  "language_info": {
   "codemirror_mode": {
    "name": "ipython",
    "version": 3
   },
   "file_extension": ".py",
   "mimetype": "text/x-python",
   "name": "python",
   "nbconvert_exporter": "python",
   "pygments_lexer": "ipython3",
   "version": "3.6.7"
  }
 },
 "nbformat": 4,
 "nbformat_minor": 2
}
